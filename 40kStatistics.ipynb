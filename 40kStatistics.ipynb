{
 "cells": [
  {
   "cell_type": "code",
   "execution_count": 16,
   "metadata": {
    "collapsed": false
   },
   "outputs": [],
   "source": [
    "import math\n",
    "\n",
    "# Define the stat sheet for offense\n",
    "class OffensiveStats(object):\n",
    "    def __init__(self, name):\n",
    "        self.name = name\n",
    "        \n",
    "    def set_weapon_skill(self, ws):\n",
    "        self.ws = ws\n",
    "        \n",
    "    def set_strength(self, strength):\n",
    "        self.strength = strength\n",
    "        \n",
    "    def set_balistic_skill(self, bs):\n",
    "        self.bs = bs\n",
    "        \n",
    "    def set_ap(self, ap):\n",
    "        self.ap = ap\n",
    "        \n",
    "    def set_wounds(self, w):\n",
    "        self.w = w\n",
    "        \n",
    "    def mean_attacks_to_kill(self, defensive_stats, is_ranged = True):\n",
    "        attack = self.ws\n",
    "        if is_ranged:\n",
    "            attack = self.bs\n",
    "            \n",
    "        # probability of hitting\n",
    "        prob_hit = (6.0 - attack) / 6.0\n",
    "        \n",
    "        # probability of wounding\n",
    "        # str >= 2* tough => 2+\n",
    "        # str > tough => 3+\n",
    "        # str = tough => 4+\n",
    "        # str < tough => 5+\n",
    "        # 2*str <= tough => 6+\n",
    "        t = defensive_stats.toughness\n",
    "        s = self.strength\n",
    "        \n",
    "        wound_on = 5.0\n",
    "        if s >= 2*t:\n",
    "            wound_on = 2.0\n",
    "        elif s > t:\n",
    "            wound_on = 3.0\n",
    "        elif s == t:\n",
    "            wound_on = 4.0\n",
    "        elif 2*s < t:\n",
    "            wound_on = 6.0\n",
    "        \n",
    "        prob_wound = (7.0 - wound_on) / 6.0\n",
    "        \n",
    "        # probability of saving against the wound\n",
    "        # determine save\n",
    "        save = defensive_stats.save - self.ap\n",
    "        if defensive_stats.has_invul:\n",
    "            if defensive_stats.invul < save:\n",
    "                save = defensive_stats.invul\n",
    "        prob_save = (7.0 - save) / 6.\n",
    "        \n",
    "        attacks_to_wound = int(1.0 / (prob_hit * prob_wound * (1.0 - prob_save)))\n",
    "        wound_to_kill = int(math.ceil(defensive_stats.wounds / self.w))\n",
    "        attacks_to_kill = attacks_to_wound * wound_to_kill\n",
    "        print \"Probability of \" + self.name + \" hitting \" + defensive_stats.name + \": \" + str(prob_hit) + \"\\nProbability of wounding: \" + str(prob_wound) + \"\\nProbability of saving: \" + str(prob_save) + \"\\nTotal attacks to kill: \" + str(attacks_to_kill)\n",
    "        return attacks_to_kill\n",
    "        \n",
    "class DefensiveStats(object):\n",
    "    def __init__(self, name):\n",
    "        self.name = name\n",
    "        self.has_invul = False\n",
    "        \n",
    "    def set_save(self, save):\n",
    "        self.save = save\n",
    "    \n",
    "    def set_invul(self, invul):\n",
    "        self.invul = invul\n",
    "        self.has_invul = True\n",
    "        \n",
    "    def set_toughness(self, toughness):\n",
    "        self.toughness = toughness\n",
    "        \n",
    "    def set_wounds(self, wounds):\n",
    "        self.wounds = wounds\n",
    "        \n",
    "    "
   ]
  },
  {
   "cell_type": "code",
   "execution_count": 17,
   "metadata": {
    "collapsed": false
   },
   "outputs": [],
   "source": [
    "wych = OffensiveStats(\"wych\")\n",
    "wych.set_weapon_skill(3.0)\n",
    "wych.set_balistic_skill(3.0)\n",
    "wych.set_strength(3.0)\n",
    "wych.set_ap(0.0)\n",
    "wych.set_wounds(1.0)\n",
    "\n",
    "necron = DefensiveStats(\"necron\")\n",
    "necron.set_toughness(4.0)\n",
    "necron.set_save(4.0)\n",
    "necron.set_wounds(1.0)"
   ]
  },
  {
   "cell_type": "code",
   "execution_count": 18,
   "metadata": {
    "collapsed": false
   },
   "outputs": [
    {
     "name": "stdout",
     "output_type": "stream",
     "text": [
      "Probability of wych hitting necron: 0.5\n",
      "Probability of wounding: 0.333333333333\n",
      "Probability of saving: 0.5\n",
      "Total attacks to kill: 12\n"
     ]
    },
    {
     "data": {
      "text/plain": [
       "12"
      ]
     },
     "execution_count": 18,
     "metadata": {},
     "output_type": "execute_result"
    }
   ],
   "source": [
    "wych.mean_attacks_to_kill(necron)"
   ]
  },
  {
   "cell_type": "code",
   "execution_count": null,
   "metadata": {
    "collapsed": true
   },
   "outputs": [],
   "source": []
  }
 ],
 "metadata": {
  "kernelspec": {
   "display_name": "Python 2",
   "language": "python",
   "name": "python2"
  },
  "language_info": {
   "codemirror_mode": {
    "name": "ipython",
    "version": 2
   },
   "file_extension": ".py",
   "mimetype": "text/x-python",
   "name": "python",
   "nbconvert_exporter": "python",
   "pygments_lexer": "ipython2",
   "version": "2.7.12"
  }
 },
 "nbformat": 4,
 "nbformat_minor": 0
}
