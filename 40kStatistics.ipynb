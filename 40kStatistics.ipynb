{
 "cells": [
  {
   "cell_type": "code",
   "execution_count": null,
   "metadata": {
    "collapsed": false
   },
   "outputs": [],
   "source": [
    "import math\n",
    "\n",
    "# Define the stat sheet for offense\n",
    "class Stats(object):\n",
    "    def __init__(self, name, ws, bs, s, t, w, a, sv):\n",
    "        self.name = name\n",
    "        # required fields\n",
    "        self.ws = float(ws)\n",
    "        self.bs = float(bs)\n",
    "        self.s = float(s)\n",
    "        self.t = float(t)\n",
    "        self.w = float(w)\n",
    "        self.a = float(a)\n",
    "        self.sv = float(sv)\n",
    "        \n",
    "        # optional fields\n",
    "        self.ap = 0.0\n",
    "        # wounds inflicted\n",
    "        self.w_inf = 1.0\n",
    "        # invulnerable save\n",
    "        self.inv = 7.0\n",
    "        self.has_inv = False\n",
    "        \n",
    "    def set_inv(self, inv):\n",
    "        self.inv = inv\n",
    "        self.has_inv = True\n",
    "        \n",
    "    def probability_to_hit(self, atk):\n",
    "        return (7.0 - atk) / 6.0\n",
    "    \n",
    "    \n",
    "    # str >= 2* tough => 2+\n",
    "    # str > tough => 3+\n",
    "    # str = tough => 4+\n",
    "    # str < tough => 5+\n",
    "    # 2*str <= tough => 6+\n",
    "    def probability_to_wound(self, s, t):\n",
    "        wound_on = 5.0\n",
    "        if s >= 2*t:\n",
    "            wound_on = 2.0\n",
    "        elif s > t:\n",
    "            wound_on = 3.0\n",
    "        elif s == t:\n",
    "            wound_on = 4.0\n",
    "        elif 2*s < t:\n",
    "            wound_on = 6.0\n",
    "            \n",
    "        return (7.0 - wound_on) / 6.0\n",
    "    \n",
    "    \n",
    "    def probability_to_save(self, defender):\n",
    "        # determine save\n",
    "        save = defender.sv + self.ap\n",
    "        if defender.has_inv:\n",
    "            if defender.inv < save:\n",
    "                save = defender.inv\n",
    "                    \n",
    "        return (7.0 - save) / 6.0\n",
    "        \n",
    "        \n",
    "    def mean_attacks_to_kill(self, defender, is_ranged = False, s_ranged = 0.0, w_rnged = 0.0, ap_rng = 0.0):\n",
    "        atk = self.ws\n",
    "        s = self.s\n",
    "        w_inf = self.w_inf\n",
    "        ap = self.ap\n",
    "        \n",
    "        if is_ranged:\n",
    "            atk = self.bs\n",
    "            s = s_ranged\n",
    "            w_inf = w_rnged\n",
    "            ap = ap_rng\n",
    "            \n",
    "        # probability of hitting\n",
    "        prob_hit = self.probability_to_hit(atk)\n",
    "        \n",
    "        # probability of wounding\n",
    "        t = defender.t\n",
    "        \n",
    "        prob_wound = self.probability_to_wound(s, t)\n",
    "        \n",
    "        # probability of saving against the wound\n",
    "        prob_save = self.probability_to_save(defender)\n",
    "        \n",
    "        attacks_to_wound = int(1.0 / (prob_hit * prob_wound * (1.0 - prob_save)))\n",
    "        wound_to_kill = int(math.ceil(defender.w / self.w_inf))\n",
    "        attacks_to_kill = attacks_to_wound * wound_to_kill\n",
    "        print \"Probability of \" + self.name + \" hitting \" + defender.name + \": \" + str(prob_hit) + \"\\nProbability of wounding: \" + str(prob_wound) + \"\\nProbability of saving: \" + str(prob_save) + \"\\nTotal attacks to kill: \" + str(attacks_to_kill)\n",
    "        return attacks_to_kill\n",
    "    \n",
    "    def models_to_kill(self, defender, is_ranged = False, s_ranged = 0.0, w_rnged = 0.0, ap_rng = 0.0):\n",
    "        matk = self.mean_attacks_to_kill(defender, is_ranged, s_ranged, w_rnged, ap_rng)\n",
    "        mtk = int(math.ceil(matk / self.a))\n",
    "        print \"Number of \" + str(self.name) + \" models requied to kill one \" + str(defender.name) + \" in one turn is \" + str(mtk)\n",
    "        return mtk"
   ]
  },
  {
   "cell_type": "code",
   "execution_count": null,
   "metadata": {
    "collapsed": false
   },
   "outputs": [],
   "source": [
    "wych_in_combat = Stats(name = \"Wych\", ws = 3, bs = 3, s = 3, t = 3, w = 1, a = 2, sv = 6)\n",
    "wych_in_combat.set_inv(4)\n",
    "\n",
    "necron_warrior = Stats(name = \"Necron Warrior\", ws = 3, bs = 3, s = 4, t = 4, w = 1, a = 1, sv = 4)"
   ]
  },
  {
   "cell_type": "code",
   "execution_count": null,
   "metadata": {
    "collapsed": false
   },
   "outputs": [],
   "source": [
    "wych_in_combat.models_to_kill(necron_warrior)"
   ]
  },
  {
   "cell_type": "code",
   "execution_count": null,
   "metadata": {
    "collapsed": true
   },
   "outputs": [],
   "source": []
  }
 ],
 "metadata": {
  "kernelspec": {
   "display_name": "Python 2",
   "language": "python",
   "name": "python2"
  },
  "language_info": {
   "codemirror_mode": {
    "name": "ipython",
    "version": 2
   },
   "file_extension": ".py",
   "mimetype": "text/x-python",
   "name": "python",
   "nbconvert_exporter": "python",
   "pygments_lexer": "ipython2",
   "version": "2.7.12"
  }
 },
 "nbformat": 4,
 "nbformat_minor": 0
}
