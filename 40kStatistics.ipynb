{
 "cells": [
  {
   "cell_type": "code",
   "execution_count": 49,
   "metadata": {
    "collapsed": false
   },
   "outputs": [],
   "source": [
    "import math\n",
    "\n",
    "class Weapon(object):\n",
    "    def __init__(self, name, s, w_inf, a, ap = 0, rngd = False):\n",
    "        # Mandatory fields\n",
    "        self.name = name\n",
    "        self.s = float(s)\n",
    "        self.w_inf = float(w_inf)\n",
    "        self.a = float(a)\n",
    "        self.ap = float(ap)\n",
    "        self.rngd = rngd\n",
    "        \n",
    "        # Optional fields\n",
    "        self.is_psn = False\n",
    "        self.psn = 7.0\n",
    "        \n",
    "        self.is_rndm_inf = False\n",
    "        self.rndm_inf = 6.0\n",
    "        \n",
    "        self.is_rr_hits = False\n",
    "        self.is_rr_w = False\n",
    "        \n",
    "    # weapon can reroll to wounds\n",
    "    def set_rr_w(self):\n",
    "        self.is_rr_w = True\n",
    "        \n",
    "    # weapon can reroll to hits\n",
    "    def set_rr_hits(self):\n",
    "        self.is_rr_hits = True\n",
    "        \n",
    "    # the weapon always wounds on a roll of psn\n",
    "    def set_psn(self, psn):\n",
    "        self.psn = psn\n",
    "        self.is_psn = True\n",
    "        \n",
    "    def avg_w(self):\n",
    "        if self.is_rndm_inf:\n",
    "            return (1.0 + self.rndm_inf) / 2.0\n",
    "        return self.w_inf\n",
    "        \n",
    "    # str >= 2* tough => 2+\n",
    "    # str > tough => 3+\n",
    "    # str = tough => 4+\n",
    "    # str < tough => 5+\n",
    "    # 2*str <= tough => 6+\n",
    "    def probability_to_wound(self, t):\n",
    "        s = self.s\n",
    "        wound_on = 5.0\n",
    "        if self.is_psn:\n",
    "            wound_on = self.psn\n",
    "        elif s >= 2*t:\n",
    "            wound_on = 2.0\n",
    "        elif s > t:\n",
    "            wound_on = 3.0\n",
    "        elif s == t:\n",
    "            wound_on = 4.0\n",
    "        elif 2*s < t:\n",
    "            wound_on = 6.0\n",
    "            \n",
    "        basic = (7.0 - wound_on) / 6.0\n",
    "        p_wound = basic\n",
    "        if self.is_rr_w:\n",
    "            p_wound = 1.0 - (1.0 - basic) * (1.0 - basic)\n",
    "            \n",
    "        return p_wound\n",
    "\n",
    "# Define the stat sheet for offense\n",
    "class Stats(Weapon):\n",
    "    def __init__(self, name, ws, bs, s, t, w, a, sv):\n",
    "        # weapon fields\n",
    "        self.name = name\n",
    "        self.s = float(s)\n",
    "        self.w_inf = 1.0\n",
    "        self.a = float(a)\n",
    "        self.ap = 0.0\n",
    "        self.rngd = False\n",
    "        # Optional weapon fields\n",
    "        self.is_psn = False\n",
    "        self.psn = 7.0\n",
    "        self.is_rndm_inf = False\n",
    "        self.rndm_inf = 6.0\n",
    "        self.is_rr_hits = False\n",
    "        self.is_rr_w = False\n",
    "        \n",
    "        # required fields\n",
    "        self.ws = float(ws)\n",
    "        self.bs = float(bs)\n",
    "        self.t = float(t)\n",
    "        self.w = float(w)\n",
    "        self.sv = float(sv)\n",
    "        \n",
    "        # invulnerable save\n",
    "        self.inv = 7.0\n",
    "        self.has_inv = False\n",
    "        \n",
    "        # wound recovery\n",
    "        self.has_w_ig = False\n",
    "        self.w_ig = 7.0\n",
    "        \n",
    "        # by default we assume melee so use characters stat block\n",
    "        self.weapon = self\n",
    "        \n",
    "    def set_inv(self, inv):\n",
    "        self.inv = inv\n",
    "        self.has_inv = True\n",
    "        \n",
    "    def set_weapon(self, weapon):\n",
    "        self.weapon = weapon\n",
    "        \n",
    "    # set the chance to ignore the wound\n",
    "    def set_w_ig(self, w_ig):\n",
    "        self.has_w_ig = True\n",
    "        self.w_ig = w_ig\n",
    "        \n",
    "    def probability_to_hit(self):\n",
    "        atk = self.ws\n",
    "        if self.weapon.rngd:\n",
    "            atk = self.bs\n",
    "        \n",
    "        basic = (7.0 - atk) / 6.0\n",
    "        p_hit = basic\n",
    "        if self.weapon.is_rr_hits:\n",
    "            p_hit = 1.0 - (1.0 - basic) * (1.0 - basic)\n",
    "        \n",
    "        return p_hit\n",
    "    \n",
    "    \n",
    "    def probability_to_save(self, attacker):\n",
    "        # determine save\n",
    "        save = self.sv + attacker.weapon.ap\n",
    "        if self.has_inv:\n",
    "            if self.inv < save:\n",
    "                save = self.inv\n",
    "                    \n",
    "        return (7.0 - save) / 6.0\n",
    "    \n",
    "    \n",
    "    def probability_to_ignore_wound(self):\n",
    "        if self.has_w_ig:\n",
    "            return (7.0 - self.w_ig) / 6.0\n",
    "        \n",
    "        return 0.0\n",
    "        \n",
    "    def mean_attacks_to_kill(self, defender):\n",
    "        # probability of hitting\n",
    "        prob_hit = self.probability_to_hit()\n",
    "        \n",
    "        # probability of wounding\n",
    "        t = defender.t\n",
    "        \n",
    "        p_w = self.probability_to_wound(t)\n",
    "        prob_ignore = defender.probability_to_ignore_wound()\n",
    "        prob_wound = p_w - p_w * prob_ignore\n",
    "        \n",
    "        # probability of saving against the wound\n",
    "        prob_save = defender.probability_to_save(self)\n",
    "        \n",
    "        attacks_to_dmg = int(1.0 / (prob_hit * prob_wound * (1.0 - prob_save)))\n",
    "        dmg_to_kill = int(math.ceil(defender.w / self.weapon.avg_w()))\n",
    "        attacks_to_kill = attacks_to_dmg * dmg_to_kill\n",
    "        print \"Probability of \" + self.name + \" hitting \" + defender.name + \": \" + str(prob_hit) + \"\\nProbability of wounding: \" + str(prob_wound) + \"\\nProbability of saving: \" + str(prob_save) + \"\\nProbability of ignoring: \" + str(prob_ignore) + \"\\nTotal attacks to kill: \" + str(attacks_to_kill)\n",
    "        return attacks_to_kill\n",
    "    \n",
    "    def models_to_kill(self, defender):\n",
    "        matk = self.mean_attacks_to_kill(defender)\n",
    "        mtk = int(math.ceil(matk / self.weapon.a))\n",
    "        print \"Number of \" + str(self.name) + \" models requied to kill one \" + str(defender.name) + \" in one turn is \" + str(mtk)\n",
    "        return mtk\n",
    "    "
   ]
  },
  {
   "cell_type": "code",
   "execution_count": 45,
   "metadata": {
    "collapsed": false
   },
   "outputs": [],
   "source": [
    "wych_in_combat = Stats(name = \"Wych\", ws = 3, bs = 3, s = 3, t = 3, w = 1, a = 2, sv = 6)\n",
    "wych_in_combat.set_inv(4)\n",
    "wych_in_combat.set_w_ig(6)\n",
    "\n",
    "necron_warrior = Stats(name = \"Necron Warrior\", ws = 3, bs = 3, s = 4, t = 4, w = 1, a = 1, sv = 4)"
   ]
  },
  {
   "cell_type": "code",
   "execution_count": 46,
   "metadata": {
    "collapsed": false
   },
   "outputs": [
    {
     "name": "stdout",
     "output_type": "stream",
     "text": [
      "Probability of Wych hitting Necron Warrior: 0.666666666667\n",
      "Probability of wounding: 0.333333333333\n",
      "Probability of saving: 0.5\n",
      "Probability of ignoring: 0.0\n",
      "Total attacks to kill: 9\n",
      "Number of Wych models requied to kill one Necron Warrior in one turn is 5\n"
     ]
    },
    {
     "data": {
      "text/plain": [
       "5"
      ]
     },
     "execution_count": 46,
     "metadata": {},
     "output_type": "execute_result"
    }
   ],
   "source": [
    "wych_in_combat.models_to_kill(necron_warrior)"
   ]
  },
  {
   "cell_type": "code",
   "execution_count": 47,
   "metadata": {
    "collapsed": false
   },
   "outputs": [
    {
     "name": "stdout",
     "output_type": "stream",
     "text": [
      "Probability of Necron Warrior hitting Wych: 0.666666666667\n",
      "Probability of wounding: 0.555555555556\n",
      "Probability of saving: 0.5\n",
      "Probability of ignoring: 0.166666666667\n",
      "Total attacks to kill: 5\n",
      "Number of Necron Warrior models requied to kill one Wych in one turn is 5\n"
     ]
    },
    {
     "data": {
      "text/plain": [
       "5"
      ]
     },
     "execution_count": 47,
     "metadata": {},
     "output_type": "execute_result"
    }
   ],
   "source": [
    "necron_warrior.models_to_kill(wych_in_combat)"
   ]
  },
  {
   "cell_type": "code",
   "execution_count": 52,
   "metadata": {
    "collapsed": false
   },
   "outputs": [],
   "source": [
    "hekatrix = Stats(name = \"Wych Hekatrix\", ws = 3, bs = 3, s = 3, t = 3, w = 1, a = 3, sv = 6)\n",
    "hekatrix.set_inv(4)\n",
    "hekatrix.set_w_ig(6)\n",
    "\n",
    "agonizer = Weapon(name = \"Agonizer\", s = 3, w_inf = 1, a = 3, ap = 2)\n",
    "agonizer.set_psn(4)\n",
    "hekatrix.set_weapon(agonizer)"
   ]
  },
  {
   "cell_type": "code",
   "execution_count": 53,
   "metadata": {
    "collapsed": false
   },
   "outputs": [
    {
     "name": "stdout",
     "output_type": "stream",
     "text": [
      "Probability of Wych Hekatrix hitting Necron Warrior: 0.666666666667\n",
      "Probability of wounding: 0.333333333333\n",
      "Probability of saving: 0.166666666667\n",
      "Probability of ignoring: 0.0\n",
      "Total attacks to kill: 5\n"
     ]
    },
    {
     "data": {
      "text/plain": [
       "5"
      ]
     },
     "execution_count": 53,
     "metadata": {},
     "output_type": "execute_result"
    }
   ],
   "source": [
    "hekatrix.mean_attacks_to_kill(necron_warrior)"
   ]
  },
  {
   "cell_type": "code",
   "execution_count": null,
   "metadata": {
    "collapsed": true
   },
   "outputs": [],
   "source": []
  }
 ],
 "metadata": {
  "kernelspec": {
   "display_name": "Python 2",
   "language": "python",
   "name": "python2"
  },
  "language_info": {
   "codemirror_mode": {
    "name": "ipython",
    "version": 2
   },
   "file_extension": ".py",
   "mimetype": "text/x-python",
   "name": "python",
   "nbconvert_exporter": "python",
   "pygments_lexer": "ipython2",
   "version": "2.7.12"
  }
 },
 "nbformat": 4,
 "nbformat_minor": 0
}
